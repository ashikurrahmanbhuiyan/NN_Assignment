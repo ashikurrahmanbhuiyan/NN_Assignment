{
  "nbformat": 4,
  "nbformat_minor": 0,
  "metadata": {
    "colab": {
      "provenance": [],
      "gpuType": "T4"
    },
    "kernelspec": {
      "name": "python3",
      "display_name": "Python 3"
    },
    "language_info": {
      "name": "python"
    },
    "accelerator": "GPU"
  },
  "cells": [
    {
      "cell_type": "code",
      "execution_count": null,
      "metadata": {
        "id": "8lyQjxXZF0J8"
      },
      "outputs": [],
      "source": [
        "import tensorflow as tf\n",
        "from tensorflow.keras.applications import (\n",
        "    ResNet50, VGG16, VGG19, MobileNetV2, DenseNet121, EfficientNetB0,\n",
        "    InceptionV3, Xception, ResNet101, ResNet152\n",
        ")\n",
        "from tensorflow.keras.applications.resnet50 import preprocess_input\n",
        "from tensorflow.keras.layers import Dense, GlobalAveragePooling2D\n",
        "from tensorflow.keras.models import Model\n",
        "from tensorflow.keras.optimizers import Adam\n",
        "from tensorflow.keras.mixed_precision import set_global_policy\n",
        "import numpy as np\n",
        "import matplotlib.pyplot as plt\n",
        "import time\n",
        "\n",
        "tf.random.set_seed(42)\n",
        "np.random.seed(42)\n",
        "set_global_policy('mixed_float16')"
      ]
    },
    {
      "cell_type": "code",
      "source": [
        "(x_train, y_train), (x_test, y_test) = tf.keras.datasets.cifar100.load_data()\n",
        "\n",
        "num_classes = 20\n",
        "selected_classes = np.random.choice(100, num_classes, replace=False)\n",
        "train_mask = np.isin(y_train, selected_classes).flatten()\n",
        "test_mask = np.isin(y_test, selected_classes).flatten()\n",
        "\n",
        "x_train = x_train[train_mask]\n",
        "y_train = y_train[train_mask]\n",
        "x_test = x_test[test_mask]\n",
        "y_test = y_test[test_mask]\n",
        "\n",
        "label_map = {old: new for new, old in enumerate(selected_classes)}\n",
        "y_train = np.array([label_map[old] for old in y_train.flatten()])\n",
        "y_test = np.array([label_map[old] for old in y_test.flatten()])\n",
        "\n",
        "train_samples_per_class = 200\n",
        "test_samples_per_class = 50\n",
        "\n",
        "train_indices = []\n",
        "test_indices = []\n",
        "for cls in range(num_classes):\n",
        "    train_cls_indices = np.where(y_train == cls)[0][:train_samples_per_class]\n",
        "    test_cls_indices = np.where(y_test == cls)[0][:test_samples_per_class]\n",
        "    train_indices.extend(train_cls_indices)\n",
        "    test_indices.extend(test_cls_indices)\n",
        "\n",
        "x_train = x_train[train_indices]\n",
        "y_train = y_train[train_indices]\n",
        "x_test = x_test[test_indices]\n",
        "y_test = y_test[test_indices]\n",
        "\n",
        "y_train_cat = tf.keras.utils.to_categorical(y_train, num_classes)\n",
        "y_test_cat = tf.keras.utils.to_categorical(y_test, num_classes)"
      ],
      "metadata": {
        "colab": {
          "base_uri": "https://localhost:8080/"
        },
        "id": "HRlaydv9F-Ba",
        "outputId": "6c424f4d-faa6-4876-eae7-2876d875965c"
      },
      "execution_count": null,
      "outputs": [
        {
          "output_type": "stream",
          "name": "stdout",
          "text": [
            "Downloading data from https://www.cs.toronto.edu/~kriz/cifar-100-python.tar.gz\n",
            "\u001b[1m169001437/169001437\u001b[0m \u001b[32m━━━━━━━━━━━━━━━━━━━━\u001b[0m\u001b[37m\u001b[0m \u001b[1m4s\u001b[0m 0us/step\n"
          ]
        }
      ]
    },
    {
      "cell_type": "code",
      "source": [
        "def preprocess_image(image, label, model_name):\n",
        "    if model_name in ['InceptionV3', 'Xception']:\n",
        "        image = tf.image.resize(image, (299, 299))\n",
        "    else:\n",
        "        image = tf.image.resize(image, (224, 224))\n",
        "\n",
        "    if model_name in ['InceptionV3', 'Xception']:\n",
        "        image = tf.keras.applications.inception_v3.preprocess_input(image)\n",
        "    elif model_name == 'EfficientNetB0':\n",
        "        image = tf.keras.applications.efficientnet.preprocess_input(image)\n",
        "    elif model_name == 'MobileNetV2':\n",
        "        image = tf.keras.applications.mobilenet_v2.preprocess_input(image)\n",
        "    elif model_name == 'DenseNet121':\n",
        "        image = tf.keras.applications.densenet.preprocess_input(image)\n",
        "    else:\n",
        "        image = tf.keras.applications.resnet50.preprocess_input(image)\n",
        "    return image, label"
      ],
      "metadata": {
        "id": "j7_IdmyOGcoM"
      },
      "execution_count": null,
      "outputs": []
    },
    {
      "cell_type": "code",
      "source": [
        "batch_size = 32\n",
        "train_dataset = tf.data.Dataset.from_tensor_slices((x_train, y_train_cat))\n",
        "test_dataset = tf.data.Dataset.from_tensor_slices((x_test, y_test_cat))"
      ],
      "metadata": {
        "id": "C15tpF7uGf4j"
      },
      "execution_count": null,
      "outputs": []
    },
    {
      "cell_type": "code",
      "source": [
        "models = [\n",
        "    ('ResNet50', ResNet50), ('VGG16', VGG16), ('VGG19', VGG19),\n",
        "    ('MobileNetV2', MobileNetV2), ('DenseNet121', DenseNet121),\n",
        "    ('EfficientNetB0', EfficientNetB0), ('InceptionV3', InceptionV3),\n",
        "    ('Xception', Xception), ('ResNet101', ResNet101), ('ResNet152', ResNet152)\n",
        "]"
      ],
      "metadata": {
        "id": "ve1VZQBfGjFb"
      },
      "execution_count": null,
      "outputs": []
    },
    {
      "cell_type": "code",
      "source": [
        "results = []\n",
        "start_time = time.time()\n",
        "for model_name, ModelClass in models:\n",
        "    print(f\"\\nTraining {model_name}...\")\n",
        "\n",
        "    train_ds = train_dataset.map(lambda x, y: preprocess_image(x, y, model_name),\n",
        "                                num_parallel_calls=tf.data.AUTOTUNE)\n",
        "    train_ds = train_ds.shuffle(1000).batch(batch_size).prefetch(tf.data.AUTOTUNE)\n",
        "\n",
        "    test_ds = test_dataset.map(lambda x, y: preprocess_image(x, y, model_name),\n",
        "                               num_parallel_calls=tf.data.AUTOTUNE)\n",
        "    test_ds = test_ds.batch(batch_size).prefetch(tf.data.AUTOTUNE)\n",
        "\n",
        "    input_shape = (299, 299, 3) if model_name in ['InceptionV3', 'Xception'] else (224, 224, 3)\n",
        "    base_model = ModelClass(weights='imagenet', include_top=False, input_shape=input_shape)\n",
        "    base_model.trainable = False\n",
        "\n",
        "    x = base_model.output\n",
        "    x = GlobalAveragePooling2D()(x)\n",
        "    x = Dense(128, activation='relu')(x)\n",
        "    predictions = Dense(num_classes, activation='softmax', dtype='float32')(x)\n",
        "    model = Model(inputs=base_model.input, outputs=predictions)\n",
        "\n",
        "    model.compile(optimizer=Adam(learning_rate=0.001),\n",
        "                  loss='categorical_crossentropy',\n",
        "                  metrics=['accuracy'])\n",
        "\n",
        "    model.fit(train_ds, epochs=2, validation_data=test_ds, verbose=1)\n",
        "    test_loss, test_accuracy = model.evaluate(test_ds, verbose=0)\n",
        "    results.append((model_name, test_accuracy, test_loss))\n",
        "\n",
        "    del model\n",
        "    tf.keras.backend.clear_session()\n",
        "\n",
        "total_time = time.time() - start_time"
      ],
      "metadata": {
        "colab": {
          "base_uri": "https://localhost:8080/"
        },
        "id": "8bBZiCzQGnxz",
        "outputId": "f8bf98d2-8aeb-4eeb-8756-e5cc8c174cf8"
      },
      "execution_count": null,
      "outputs": [
        {
          "output_type": "stream",
          "name": "stdout",
          "text": [
            "\n",
            "Training ResNet50...\n",
            "Downloading data from https://storage.googleapis.com/tensorflow/keras-applications/resnet/resnet50_weights_tf_dim_ordering_tf_kernels_notop.h5\n",
            "\u001b[1m94765736/94765736\u001b[0m \u001b[32m━━━━━━━━━━━━━━━━━━━━\u001b[0m\u001b[37m\u001b[0m \u001b[1m0s\u001b[0m 0us/step\n",
            "Epoch 1/2\n",
            "\u001b[1m125/125\u001b[0m \u001b[32m━━━━━━━━━━━━━━━━━━━━\u001b[0m\u001b[37m\u001b[0m \u001b[1m37s\u001b[0m 158ms/step - accuracy: 0.5368 - loss: 2.0167 - val_accuracy: 0.6870 - val_loss: 1.0384\n",
            "Epoch 2/2\n",
            "\u001b[1m125/125\u001b[0m \u001b[32m━━━━━━━━━━━━━━━━━━━━\u001b[0m\u001b[37m\u001b[0m \u001b[1m12s\u001b[0m 74ms/step - accuracy: 0.7661 - loss: 0.8001 - val_accuracy: 0.7580 - val_loss: 0.7136\n",
            "\n",
            "Training VGG16...\n",
            "Downloading data from https://storage.googleapis.com/tensorflow/keras-applications/vgg16/vgg16_weights_tf_dim_ordering_tf_kernels_notop.h5\n",
            "\u001b[1m58889256/58889256\u001b[0m \u001b[32m━━━━━━━━━━━━━━━━━━━━\u001b[0m\u001b[37m\u001b[0m \u001b[1m0s\u001b[0m 0us/step\n",
            "Epoch 1/2\n",
            "\u001b[1m125/125\u001b[0m \u001b[32m━━━━━━━━━━━━━━━━━━━━\u001b[0m\u001b[37m\u001b[0m \u001b[1m44s\u001b[0m 239ms/step - accuracy: 0.4447 - loss: 2.5590 - val_accuracy: 0.5090 - val_loss: 1.6624\n",
            "Epoch 2/2\n",
            "\u001b[1m125/125\u001b[0m \u001b[32m━━━━━━━━━━━━━━━━━━━━\u001b[0m\u001b[37m\u001b[0m \u001b[1m32s\u001b[0m 246ms/step - accuracy: 0.6741 - loss: 1.0423 - val_accuracy: 0.6320 - val_loss: 1.1901\n",
            "\n",
            "Training VGG19...\n",
            "Downloading data from https://storage.googleapis.com/tensorflow/keras-applications/vgg19/vgg19_weights_tf_dim_ordering_tf_kernels_notop.h5\n",
            "\u001b[1m80134624/80134624\u001b[0m \u001b[32m━━━━━━━━━━━━━━━━━━━━\u001b[0m\u001b[37m\u001b[0m \u001b[1m0s\u001b[0m 0us/step\n",
            "Epoch 1/2\n",
            "\u001b[1m125/125\u001b[0m \u001b[32m━━━━━━━━━━━━━━━━━━━━\u001b[0m\u001b[37m\u001b[0m \u001b[1m40s\u001b[0m 281ms/step - accuracy: 0.4504 - loss: 2.4548 - val_accuracy: 0.5710 - val_loss: 1.4634\n",
            "Epoch 2/2\n",
            "\u001b[1m125/125\u001b[0m \u001b[32m━━━━━━━━━━━━━━━━━━━━\u001b[0m\u001b[37m\u001b[0m \u001b[1m39s\u001b[0m 303ms/step - accuracy: 0.7164 - loss: 0.9501 - val_accuracy: 0.6780 - val_loss: 1.0243\n",
            "\n",
            "Training MobileNetV2...\n",
            "Downloading data from https://storage.googleapis.com/tensorflow/keras-applications/mobilenet_v2/mobilenet_v2_weights_tf_dim_ordering_tf_kernels_1.0_224_no_top.h5\n",
            "\u001b[1m9406464/9406464\u001b[0m \u001b[32m━━━━━━━━━━━━━━━━━━━━\u001b[0m\u001b[37m\u001b[0m \u001b[1m0s\u001b[0m 0us/step\n",
            "Epoch 1/2\n",
            "\u001b[1m125/125\u001b[0m \u001b[32m━━━━━━━━━━━━━━━━━━━━\u001b[0m\u001b[37m\u001b[0m \u001b[1m21s\u001b[0m 89ms/step - accuracy: 0.4945 - loss: 1.9543 - val_accuracy: 0.6150 - val_loss: 1.2077\n",
            "Epoch 2/2\n",
            "\u001b[1m125/125\u001b[0m \u001b[32m━━━━━━━━━━━━━━━━━━━━\u001b[0m\u001b[37m\u001b[0m \u001b[1m6s\u001b[0m 42ms/step - accuracy: 0.7327 - loss: 0.8758 - val_accuracy: 0.7110 - val_loss: 0.8929\n",
            "\n",
            "Training DenseNet121...\n",
            "Downloading data from https://storage.googleapis.com/tensorflow/keras-applications/densenet/densenet121_weights_tf_dim_ordering_tf_kernels_notop.h5\n",
            "\u001b[1m29084464/29084464\u001b[0m \u001b[32m━━━━━━━━━━━━━━━━━━━━\u001b[0m\u001b[37m\u001b[0m \u001b[1m0s\u001b[0m 0us/step\n",
            "Epoch 1/2\n",
            "\u001b[1m125/125\u001b[0m \u001b[32m━━━━━━━━━━━━━━━━━━━━\u001b[0m\u001b[37m\u001b[0m \u001b[1m62s\u001b[0m 281ms/step - accuracy: 0.4778 - loss: 1.9470 - val_accuracy: 0.6110 - val_loss: 1.3129\n",
            "Epoch 2/2\n",
            "\u001b[1m125/125\u001b[0m \u001b[32m━━━━━━━━━━━━━━━━━━━━\u001b[0m\u001b[37m\u001b[0m \u001b[1m47s\u001b[0m 104ms/step - accuracy: 0.7124 - loss: 0.9111 - val_accuracy: 0.7160 - val_loss: 0.8426\n",
            "\n",
            "Training EfficientNetB0...\n",
            "Downloading data from https://storage.googleapis.com/keras-applications/efficientnetb0_notop.h5\n",
            "\u001b[1m16705208/16705208\u001b[0m \u001b[32m━━━━━━━━━━━━━━━━━━━━\u001b[0m\u001b[37m\u001b[0m \u001b[1m0s\u001b[0m 0us/step\n",
            "Epoch 1/2\n",
            "\u001b[1m125/125\u001b[0m \u001b[32m━━━━━━━━━━━━━━━━━━━━\u001b[0m\u001b[37m\u001b[0m \u001b[1m37s\u001b[0m 132ms/step - accuracy: 0.5251 - loss: 1.7658 - val_accuracy: 0.7250 - val_loss: 0.9036\n",
            "Epoch 2/2\n",
            "\u001b[1m125/125\u001b[0m \u001b[32m━━━━━━━━━━━━━━━━━━━━\u001b[0m\u001b[37m\u001b[0m \u001b[1m7s\u001b[0m 48ms/step - accuracy: 0.7995 - loss: 0.6371 - val_accuracy: 0.7970 - val_loss: 0.6396\n",
            "\n",
            "Training InceptionV3...\n",
            "Downloading data from https://storage.googleapis.com/tensorflow/keras-applications/inception_v3/inception_v3_weights_tf_dim_ordering_tf_kernels_notop.h5\n",
            "\u001b[1m87910968/87910968\u001b[0m \u001b[32m━━━━━━━━━━━━━━━━━━━━\u001b[0m\u001b[37m\u001b[0m \u001b[1m0s\u001b[0m 0us/step\n",
            "Epoch 1/2\n",
            "\u001b[1m125/125\u001b[0m \u001b[32m━━━━━━━━━━━━━━━━━━━━\u001b[0m\u001b[37m\u001b[0m \u001b[1m58s\u001b[0m 305ms/step - accuracy: 0.4830 - loss: 1.8501 - val_accuracy: 0.6250 - val_loss: 1.3527\n",
            "Epoch 2/2\n",
            "\u001b[1m125/125\u001b[0m \u001b[32m━━━━━━━━━━━━━━━━━━━━\u001b[0m\u001b[37m\u001b[0m \u001b[1m52s\u001b[0m 160ms/step - accuracy: 0.7080 - loss: 0.9710 - val_accuracy: 0.7280 - val_loss: 0.9470\n",
            "\n",
            "Training Xception...\n",
            "Downloading data from https://storage.googleapis.com/tensorflow/keras-applications/xception/xception_weights_tf_dim_ordering_tf_kernels_notop.h5\n",
            "\u001b[1m83683744/83683744\u001b[0m \u001b[32m━━━━━━━━━━━━━━━━━━━━\u001b[0m\u001b[37m\u001b[0m \u001b[1m0s\u001b[0m 0us/step\n",
            "Epoch 1/2\n",
            "\u001b[1m125/125\u001b[0m \u001b[32m━━━━━━━━━━━━━━━━━━━━\u001b[0m\u001b[37m\u001b[0m \u001b[1m76s\u001b[0m 435ms/step - accuracy: 0.5226 - loss: 1.8753 - val_accuracy: 0.6440 - val_loss: 1.1523\n",
            "Epoch 2/2\n",
            "\u001b[1m125/125\u001b[0m \u001b[32m━━━━━━━━━━━━━━━━━━━━\u001b[0m\u001b[37m\u001b[0m \u001b[1m54s\u001b[0m 333ms/step - accuracy: 0.7586 - loss: 0.7758 - val_accuracy: 0.7500 - val_loss: 0.7912\n",
            "\n",
            "Training ResNet101...\n",
            "Downloading data from https://storage.googleapis.com/tensorflow/keras-applications/resnet/resnet101_weights_tf_dim_ordering_tf_kernels_notop.h5\n",
            "\u001b[1m171446536/171446536\u001b[0m \u001b[32m━━━━━━━━━━━━━━━━━━━━\u001b[0m\u001b[37m\u001b[0m \u001b[1m1s\u001b[0m 0us/step\n",
            "Epoch 1/2\n",
            "\u001b[1m125/125\u001b[0m \u001b[32m━━━━━━━━━━━━━━━━━━━━\u001b[0m\u001b[37m\u001b[0m \u001b[1m65s\u001b[0m 352ms/step - accuracy: 0.5754 - loss: 1.7064 - val_accuracy: 0.6970 - val_loss: 0.9440\n",
            "Epoch 2/2\n",
            "\u001b[1m125/125\u001b[0m \u001b[32m━━━━━━━━━━━━━━━━━━━━\u001b[0m\u001b[37m\u001b[0m \u001b[1m56s\u001b[0m 206ms/step - accuracy: 0.7990 - loss: 0.6306 - val_accuracy: 0.8170 - val_loss: 0.5560\n",
            "\n",
            "Training ResNet152...\n",
            "Downloading data from https://storage.googleapis.com/tensorflow/keras-applications/resnet/resnet152_weights_tf_dim_ordering_tf_kernels_notop.h5\n",
            "\u001b[1m234698864/234698864\u001b[0m \u001b[32m━━━━━━━━━━━━━━━━━━━━\u001b[0m\u001b[37m\u001b[0m \u001b[1m1s\u001b[0m 0us/step\n",
            "Epoch 1/2\n",
            "\u001b[1m125/125\u001b[0m \u001b[32m━━━━━━━━━━━━━━━━━━━━\u001b[0m\u001b[37m\u001b[0m \u001b[1m83s\u001b[0m 455ms/step - accuracy: 0.5776 - loss: 1.7981 - val_accuracy: 0.7660 - val_loss: 0.7344\n",
            "Epoch 2/2\n",
            "\u001b[1m125/125\u001b[0m \u001b[32m━━━━━━━━━━━━━━━━━━━━\u001b[0m\u001b[37m\u001b[0m \u001b[1m58s\u001b[0m 318ms/step - accuracy: 0.8489 - loss: 0.4889 - val_accuracy: 0.8230 - val_loss: 0.5569\n"
          ]
        }
      ]
    },
    {
      "cell_type": "code",
      "source": [
        "print(\"\\nPerformance Comparison:\")\n",
        "print(f\"{'Model':<15} {'Test Accuracy':<15} {'Test Loss':<10}\")\n",
        "print(\"-\" * 40)\n",
        "for model_name, acc, loss in results:\n",
        "    print(f\"{model_name:<15} {acc:<15.4f} {loss:<10.4f}\")\n",
        "print(f\"\\nTotal runtime: {total_time:.2f} seconds\")"
      ],
      "metadata": {
        "colab": {
          "base_uri": "https://localhost:8080/"
        },
        "id": "0mlayIDnGrak",
        "outputId": "b9a4d2dc-da06-486e-8ad8-12b3d66055b8"
      },
      "execution_count": null,
      "outputs": [
        {
          "output_type": "stream",
          "name": "stdout",
          "text": [
            "\n",
            "Performance Comparison:\n",
            "Model           Test Accuracy   Test Loss \n",
            "----------------------------------------\n",
            "ResNet50        0.7580          0.7136    \n",
            "VGG16           0.6320          1.1901    \n",
            "VGG19           0.6780          1.0243    \n",
            "MobileNetV2     0.7110          0.8929    \n",
            "DenseNet121     0.7160          0.8426    \n",
            "EfficientNetB0  0.7970          0.6396    \n",
            "InceptionV3     0.7280          0.9470    \n",
            "Xception        0.7500          0.7912    \n",
            "ResNet101       0.8170          0.5560    \n",
            "ResNet152       0.8230          0.5569    \n",
            "\n",
            "Total runtime: 1055.92 seconds\n"
          ]
        }
      ]
    },
    {
      "cell_type": "code",
      "source": [
        "model_names = [result[0] for result in results]\n",
        "accuracies = [result[1] for result in results]\n",
        "\n",
        "plt.figure(figsize=(12, 6))\n",
        "plt.bar(model_names, accuracies, color=['#1f77b4', '#ff7f0e', '#2ca02c', '#d62728', '#9467bd',\n",
        "                                       '#8c564b', '#e377c2', '#7f7f7f', '#bcbd22', '#17becf'])\n",
        "plt.xlabel('Model')\n",
        "plt.ylabel('Test Accuracy')\n",
        "plt.title('Model Test Accuracy Comparison')\n",
        "plt.ylim(0, 1)\n",
        "plt.xticks(rotation=45, ha='right')\n",
        "plt.tight_layout()\n",
        "\n",
        "plt.show()"
      ],
      "metadata": {
        "colab": {
          "base_uri": "https://localhost:8080/",
          "height": 591
        },
        "id": "BmkzMJMcHLQq",
        "outputId": "41e4aa40-a770-4dac-a444-9b47ec8c1a71"
      },
      "execution_count": null,
      "outputs": [
        {
          "output_type": "display_data",
          "data": {
            "text/plain": [
              "<Figure size 1200x600 with 1 Axes>"
            ],
            "image/png": "[encoded data removed]"
          },
          "metadata": {}
        }
      ]
    }
  ]
}