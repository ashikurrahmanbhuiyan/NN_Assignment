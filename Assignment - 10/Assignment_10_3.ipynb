{
  "nbformat": 4,
  "nbformat_minor": 0,
  "metadata": {
    "colab": {
      "provenance": [],
      "gpuType": "T4"
    },
    "kernelspec": {
      "name": "python3",
      "display_name": "Python 3"
    },
    "language_info": {
      "name": "python"
    },
    "accelerator": "GPU"
  },
  "cells": [
    {
      "cell_type": "code",
      "source": [
        "import torch\n",
        "import torch.nn as nn\n",
        "import torch.nn.functional as F\n",
        "import torch.optim as optim\n",
        "from torchvision import datasets, transforms\n",
        "from torch.utils.data import DataLoader\n",
        "import matplotlib.pyplot as plt\n",
        "\n",
        "device = torch.device(\"cuda\" if torch.cuda.is_available() else \"cpu\")\n"
      ],
      "metadata": {
        "id": "Be_iB8FIZXzh"
      },
      "execution_count": 1,
      "outputs": []
    },
    {
      "cell_type": "code",
      "source": [
        "class VAE(nn.Module):\n",
        "    def __init__(self, latent_dim):\n",
        "        super(VAE, self).__init__()\n",
        "        self.latent_dim = latent_dim\n",
        "        self.fc1 = nn.Linear(784, 400)\n",
        "        self.fc21 = nn.Linear(400, latent_dim)\n",
        "        self.fc22 = nn.Linear(400, latent_dim)\n",
        "        self.fc3 = nn.Linear(latent_dim, 400)\n",
        "        self.fc4 = nn.Linear(400, 784)\n",
        "\n",
        "    def encode(self, x):\n",
        "        h1 = F.relu(self.fc1(x))\n",
        "        return self.fc21(h1), self.fc22(h1)\n",
        "\n",
        "    def reparameterize(self, mu, logvar):\n",
        "        std = torch.exp(0.5 * logvar)\n",
        "        eps = torch.randn_like(std)\n",
        "        return mu + eps * std\n",
        "\n",
        "    def decode(self, z):\n",
        "        h3 = F.relu(self.fc3(z))\n",
        "        return torch.sigmoid(self.fc4(h3))\n",
        "\n",
        "    def forward(self, x):\n",
        "        mu, logvar = self.encode(x.view(-1, 784))\n",
        "        z = self.reparameterize(mu, logvar)\n",
        "        return self.decode(z), mu, logvar\n"
      ],
      "metadata": {
        "id": "rt8tKAVcZXs7"
      },
      "execution_count": 2,
      "outputs": []
    },
    {
      "cell_type": "code",
      "source": [
        "latent_dim = 20\n",
        "batch_size = 128\n",
        "learning_rate = 1e-3\n",
        "epochs = 10\n",
        "\n",
        "transform = transforms.Compose([transforms.ToTensor()])\n",
        "train_dataset = datasets.MNIST(root='./data', train=True, download=True, transform=transform)\n",
        "train_loader = DataLoader(train_dataset, batch_size=batch_size, shuffle=True)\n",
        "\n",
        "\n",
        "model = VAE(latent_dim).to(device)\n",
        "optimizer = optim.Adam(model.parameters(), lr=learning_rate)\n",
        "\n",
        "mu_p = torch.full((1, latent_dim), 5.0).to(device)"
      ],
      "metadata": {
        "colab": {
          "base_uri": "https://localhost:8080/"
        },
        "id": "qrlSwltUZXqS",
        "outputId": "49865e48-53c0-4366-9acd-89d23578d86a"
      },
      "execution_count": 3,
      "outputs": [
        {
          "output_type": "stream",
          "name": "stderr",
          "text": [
            "100%|██████████| 9.91M/9.91M [00:01<00:00, 6.08MB/s]\n",
            "100%|██████████| 28.9k/28.9k [00:00<00:00, 161kB/s]\n",
            "100%|██████████| 1.65M/1.65M [00:01<00:00, 1.52MB/s]\n",
            "100%|██████████| 4.54k/4.54k [00:00<00:00, 6.16MB/s]\n"
          ]
        }
      ]
    },
    {
      "cell_type": "code",
      "source": [
        "for epoch in range(epochs):\n",
        "    for batch_idx, (x, _) in enumerate(train_loader):\n",
        "        x = x.to(device)\n",
        "        optimizer.zero_grad()\n",
        "        reconstruction, mu, logvar = model(x)\n",
        "        reconstruction_loss = F.binary_cross_entropy(reconstruction, x.view(-1, 784), reduction='sum') / x.size(0)\n",
        "        kl_div = 0.5 * torch.sum(-logvar + torch.exp(logvar) + (mu - mu_p)**2 - 1, dim=1).mean()\n",
        "        loss = reconstruction_loss + kl_div\n",
        "        loss.backward()\n",
        "        optimizer.step()\n",
        "        if batch_idx % 100 == 0:\n",
        "            print(f'Epoch {epoch}, Batch {batch_idx}, Loss {loss.item()}')\n"
      ],
      "metadata": {
        "colab": {
          "base_uri": "https://localhost:8080/"
        },
        "id": "MO5cXZp5ZXnZ",
        "outputId": "ac934c90-3de6-46ce-8dc5-8790cb85aa0c"
      },
      "execution_count": 4,
      "outputs": [
        {
          "output_type": "stream",
          "name": "stdout",
          "text": [
            "Epoch 0, Batch 0, Loss 798.6813354492188\n",
            "Epoch 0, Batch 100, Loss 205.5899658203125\n",
            "Epoch 0, Batch 200, Loss 164.56044006347656\n",
            "Epoch 0, Batch 300, Loss 154.792236328125\n",
            "Epoch 0, Batch 400, Loss 148.24200439453125\n",
            "Epoch 1, Batch 0, Loss 138.36431884765625\n",
            "Epoch 1, Batch 100, Loss 126.571533203125\n",
            "Epoch 1, Batch 200, Loss 125.93390655517578\n",
            "Epoch 1, Batch 300, Loss 124.95774841308594\n",
            "Epoch 1, Batch 400, Loss 129.26821899414062\n",
            "Epoch 2, Batch 0, Loss 124.249755859375\n",
            "Epoch 2, Batch 100, Loss 122.29117584228516\n",
            "Epoch 2, Batch 200, Loss 119.2076187133789\n",
            "Epoch 2, Batch 300, Loss 122.24314880371094\n",
            "Epoch 2, Batch 400, Loss 121.1983413696289\n",
            "Epoch 3, Batch 0, Loss 120.14918518066406\n",
            "Epoch 3, Batch 100, Loss 118.75396728515625\n",
            "Epoch 3, Batch 200, Loss 122.57997131347656\n",
            "Epoch 3, Batch 300, Loss 115.10966491699219\n",
            "Epoch 3, Batch 400, Loss 118.60784912109375\n",
            "Epoch 4, Batch 0, Loss 117.88157653808594\n",
            "Epoch 4, Batch 100, Loss 116.72402954101562\n",
            "Epoch 4, Batch 200, Loss 114.61698150634766\n",
            "Epoch 4, Batch 300, Loss 119.96870422363281\n",
            "Epoch 4, Batch 400, Loss 117.13375091552734\n",
            "Epoch 5, Batch 0, Loss 112.34120178222656\n",
            "Epoch 5, Batch 100, Loss 113.0564956665039\n",
            "Epoch 5, Batch 200, Loss 115.34425354003906\n",
            "Epoch 5, Batch 300, Loss 116.89698791503906\n",
            "Epoch 5, Batch 400, Loss 113.83012390136719\n",
            "Epoch 6, Batch 0, Loss 115.57369995117188\n",
            "Epoch 6, Batch 100, Loss 117.5658187866211\n",
            "Epoch 6, Batch 200, Loss 112.65782165527344\n",
            "Epoch 6, Batch 300, Loss 114.5771713256836\n",
            "Epoch 6, Batch 400, Loss 109.10723876953125\n",
            "Epoch 7, Batch 0, Loss 112.11933898925781\n",
            "Epoch 7, Batch 100, Loss 111.19412231445312\n",
            "Epoch 7, Batch 200, Loss 109.18817138671875\n",
            "Epoch 7, Batch 300, Loss 110.77873229980469\n",
            "Epoch 7, Batch 400, Loss 110.41620635986328\n",
            "Epoch 8, Batch 0, Loss 109.41776275634766\n",
            "Epoch 8, Batch 100, Loss 110.37955474853516\n",
            "Epoch 8, Batch 200, Loss 110.89295196533203\n",
            "Epoch 8, Batch 300, Loss 113.02400970458984\n",
            "Epoch 8, Batch 400, Loss 109.48951721191406\n",
            "Epoch 9, Batch 0, Loss 110.49105072021484\n",
            "Epoch 9, Batch 100, Loss 108.58368682861328\n",
            "Epoch 9, Batch 200, Loss 110.29994201660156\n",
            "Epoch 9, Batch 300, Loss 106.05120849609375\n",
            "Epoch 9, Batch 400, Loss 113.03817749023438\n"
          ]
        }
      ]
    },
    {
      "cell_type": "code",
      "execution_count": 5,
      "metadata": {
        "colab": {
          "base_uri": "https://localhost:8080/",
          "height": 170
        },
        "id": "8f_LH1Dm0o81",
        "outputId": "47e89a0c-7e41-423f-e6e3-fbd814093559"
      },
      "outputs": [
        {
          "output_type": "display_data",
          "data": {
            "text/plain": [
              "<Figure size 1000x200 with 5 Axes>"
            ],
            "image/png": "[encoded data removed]"
          },
          "metadata": {}
        }
      ],
      "source": [
        "with torch.no_grad():\n",
        "    z = torch.normal(5.0, 1.0, size=(5, latent_dim)).to(device)\n",
        "    generated_images = model.decode(z).view(-1, 1, 28, 28)\n",
        "\n",
        "plt.figure(figsize=(10, 2))\n",
        "for i in range(5):\n",
        "    plt.subplot(1, 5, i+1)\n",
        "    plt.imshow(generated_images[i].cpu().numpy().squeeze(), cmap='gray')\n",
        "    plt.axis('off')\n",
        "plt.show()"
      ]
    }
  ]
}